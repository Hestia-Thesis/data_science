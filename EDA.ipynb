{
 "cells": [
  {
   "cell_type": "code",
   "execution_count": 1,
   "metadata": {},
   "outputs": [],
   "source": [
    "from global_variables import spark\n",
    "from pyspark.sql import functions as F\n",
    "import pandas as pd\n",
    "import seaborn as sns\n",
    "import matplotlib.pyplot as plt"
   ]
  },
  {
   "cell_type": "code",
   "execution_count": 2,
   "metadata": {},
   "outputs": [],
   "source": [
    "household_info = spark.read.csv(\"../data/archive/informations_households.csv\", header=True)\n",
    "electricity_consumption = spark.read.csv(\"../data/archive/daily_dataset.csv\", header=True)\n",
    "weather = spark.read.csv('../data/archive/weather_daily_darksky.csv', header=True)"
   ]
  },
  {
   "cell_type": "markdown",
   "metadata": {},
   "source": [
    "# EDA household_info"
   ]
  },
  {
   "cell_type": "code",
   "execution_count": 3,
   "metadata": {},
   "outputs": [
    {
     "name": "stdout",
     "output_type": "stream",
     "text": [
      "<class 'pandas.core.frame.DataFrame'>\n",
      "RangeIndex: 5566 entries, 0 to 5565\n",
      "Data columns (total 5 columns):\n",
      " #   Column         Non-Null Count  Dtype \n",
      "---  ------         --------------  ----- \n",
      " 0   LCLid          5566 non-null   object\n",
      " 1   stdorToU       5566 non-null   object\n",
      " 2   Acorn          5566 non-null   object\n",
      " 3   Acorn_grouped  5566 non-null   object\n",
      " 4   file           5566 non-null   object\n",
      "dtypes: object(5)\n",
      "memory usage: 217.6+ KB\n"
     ]
    }
   ],
   "source": [
    "df = household_info.toPandas()\n",
    "df.info()"
   ]
  },
  {
   "cell_type": "code",
   "execution_count": 4,
   "metadata": {},
   "outputs": [
    {
     "data": {
      "text/html": [
       "<div>\n",
       "<style scoped>\n",
       "    .dataframe tbody tr th:only-of-type {\n",
       "        vertical-align: middle;\n",
       "    }\n",
       "\n",
       "    .dataframe tbody tr th {\n",
       "        vertical-align: top;\n",
       "    }\n",
       "\n",
       "    .dataframe thead th {\n",
       "        text-align: right;\n",
       "    }\n",
       "</style>\n",
       "<table border=\"1\" class=\"dataframe\">\n",
       "  <thead>\n",
       "    <tr style=\"text-align: right;\">\n",
       "      <th></th>\n",
       "      <th>LCLid</th>\n",
       "      <th>stdorToU</th>\n",
       "      <th>Acorn</th>\n",
       "      <th>Acorn_grouped</th>\n",
       "      <th>file</th>\n",
       "    </tr>\n",
       "  </thead>\n",
       "  <tbody>\n",
       "    <tr>\n",
       "      <th>count</th>\n",
       "      <td>5566</td>\n",
       "      <td>5566</td>\n",
       "      <td>5566</td>\n",
       "      <td>5566</td>\n",
       "      <td>5566</td>\n",
       "    </tr>\n",
       "    <tr>\n",
       "      <th>unique</th>\n",
       "      <td>5566</td>\n",
       "      <td>2</td>\n",
       "      <td>19</td>\n",
       "      <td>5</td>\n",
       "      <td>112</td>\n",
       "    </tr>\n",
       "    <tr>\n",
       "      <th>top</th>\n",
       "      <td>MAC002774</td>\n",
       "      <td>Std</td>\n",
       "      <td>ACORN-E</td>\n",
       "      <td>Affluent</td>\n",
       "      <td>block_0</td>\n",
       "    </tr>\n",
       "    <tr>\n",
       "      <th>freq</th>\n",
       "      <td>1</td>\n",
       "      <td>4443</td>\n",
       "      <td>1567</td>\n",
       "      <td>2192</td>\n",
       "      <td>50</td>\n",
       "    </tr>\n",
       "  </tbody>\n",
       "</table>\n",
       "</div>"
      ],
      "text/plain": [
       "            LCLid stdorToU    Acorn Acorn_grouped     file\n",
       "count        5566     5566     5566          5566     5566\n",
       "unique       5566        2       19             5      112\n",
       "top     MAC002774      Std  ACORN-E      Affluent  block_0\n",
       "freq            1     4443     1567          2192       50"
      ]
     },
     "execution_count": 4,
     "metadata": {},
     "output_type": "execute_result"
    }
   ],
   "source": [
    "df.describe()"
   ]
  },
  {
   "cell_type": "markdown",
   "metadata": {},
   "source": [
    "Here we see that most of the people who were a part of this study were Established people"
   ]
  },
  {
   "cell_type": "code",
   "execution_count": 6,
   "metadata": {},
   "outputs": [
    {
     "name": "stdout",
     "output_type": "stream",
     "text": [
      "+---------+--------+-------+-------------+-------+\n",
      "|    LCLid|stdorToU|  Acorn|Acorn_grouped|   file|\n",
      "+---------+--------+-------+-------------+-------+\n",
      "|MAC005492|     ToU| ACORN-|       ACORN-|block_0|\n",
      "|MAC001074|     ToU| ACORN-|       ACORN-|block_0|\n",
      "|MAC000002|     Std|ACORN-A|     Affluent|block_0|\n",
      "|MAC003613|     Std|ACORN-A|     Affluent|block_0|\n",
      "|MAC003597|     Std|ACORN-A|     Affluent|block_0|\n",
      "|MAC003579|     Std|ACORN-A|     Affluent|block_0|\n",
      "|MAC003566|     Std|ACORN-A|     Affluent|block_0|\n",
      "|MAC003557|     Std|ACORN-A|     Affluent|block_0|\n",
      "|MAC003553|     Std|ACORN-A|     Affluent|block_0|\n",
      "|MAC003482|     Std|ACORN-A|     Affluent|block_0|\n",
      "|MAC003463|     Std|ACORN-A|     Affluent|block_0|\n",
      "|MAC003449|     Std|ACORN-A|     Affluent|block_0|\n",
      "|MAC003428|     Std|ACORN-A|     Affluent|block_0|\n",
      "|MAC003423|     Std|ACORN-A|     Affluent|block_0|\n",
      "|MAC003422|     Std|ACORN-A|     Affluent|block_0|\n",
      "|MAC003400|     Std|ACORN-A|     Affluent|block_0|\n",
      "|MAC003394|     Std|ACORN-A|     Affluent|block_0|\n",
      "|MAC003388|     Std|ACORN-A|     Affluent|block_0|\n",
      "|MAC003348|     Std|ACORN-A|     Affluent|block_0|\n",
      "|MAC000246|     Std|ACORN-A|     Affluent|block_0|\n",
      "+---------+--------+-------+-------------+-------+\n",
      "only showing top 20 rows\n",
      "\n"
     ]
    }
   ],
   "source": [
    "household_info.show()"
   ]
  },
  {
   "cell_type": "code",
   "execution_count": 3,
   "metadata": {},
   "outputs": [
    {
     "name": "stdout",
     "output_type": "stream",
     "text": [
      "+-------------+\n",
      "|Acorn_grouped|\n",
      "+-------------+\n",
      "|    Adversity|\n",
      "|       ACORN-|\n",
      "|     Affluent|\n",
      "|      ACORN-U|\n",
      "|  Comfortable|\n",
      "+-------------+\n",
      "\n"
     ]
    }
   ],
   "source": [
    "household_info.select(\"Acorn_grouped\").distinct().show()"
   ]
  },
  {
   "cell_type": "markdown",
   "metadata": {},
   "source": [
    "We don't really need the information on where the data is located or the kind of tariff applied."
   ]
  },
  {
   "cell_type": "code",
   "execution_count": 3,
   "metadata": {},
   "outputs": [],
   "source": [
    "household_info = household_info.drop(\"file\", \"Acorn_grouped\", \"stdorToU\")"
   ]
  },
  {
   "cell_type": "code",
   "execution_count": 7,
   "metadata": {},
   "outputs": [
    {
     "name": "stdout",
     "output_type": "stream",
     "text": [
      "+-------+\n",
      "|  Acorn|\n",
      "+-------+\n",
      "|ACORN-A|\n",
      "|ACORN-B|\n",
      "|ACORN-C|\n",
      "|ACORN-D|\n",
      "|ACORN-E|\n",
      "|ACORN-F|\n",
      "|ACORN-G|\n",
      "|ACORN-H|\n",
      "|ACORN-I|\n",
      "|ACORN-J|\n",
      "|ACORN-K|\n",
      "|ACORN-L|\n",
      "|ACORN-M|\n",
      "|ACORN-N|\n",
      "|ACORN-O|\n",
      "|ACORN-P|\n",
      "|ACORN-Q|\n",
      "|ACORN-U|\n",
      "+-------+\n",
      "\n"
     ]
    }
   ],
   "source": [
    "household_info.select(\"Acorn\").distinct().orderBy(\"Acorn\").show()"
   ]
  },
  {
   "cell_type": "code",
   "execution_count": 4,
   "metadata": {},
   "outputs": [
    {
     "name": "stdout",
     "output_type": "stream",
     "text": [
      "+---------+------+\n",
      "|    LCLid| Acorn|\n",
      "+---------+------+\n",
      "|MAC005492|ACORN-|\n",
      "|MAC001074|ACORN-|\n",
      "+---------+------+\n",
      "\n",
      "['MAC005492', 'MAC001074']\n"
     ]
    }
   ],
   "source": [
    "household_info.where(\"Acorn = 'ACORN-'\").show()\n",
    "id_to_drop = household_info.where(\"Acorn = 'ACORN-'\").toPandas()[\"LCLid\"].tolist()\n",
    "print(id_to_drop)"
   ]
  },
  {
   "cell_type": "markdown",
   "metadata": {},
   "source": [
    "we don't have the acorn for these houses it is better to remove those IDs"
   ]
  },
  {
   "cell_type": "code",
   "execution_count": 5,
   "metadata": {},
   "outputs": [],
   "source": [
    "household_info = household_info.where(\"Acorn != 'ACORN-'\")"
   ]
  },
  {
   "cell_type": "code",
   "execution_count": 6,
   "metadata": {},
   "outputs": [],
   "source": [
    "acorn_list = household_info.select('Acorn').distinct().orderBy('Acorn').toPandas()['Acorn'].tolist()"
   ]
  },
  {
   "cell_type": "code",
   "execution_count": 7,
   "metadata": {},
   "outputs": [],
   "source": [
    "household_info = household_info.withColumn('Acorn_id', F.lit(0))"
   ]
  },
  {
   "cell_type": "code",
   "execution_count": 8,
   "metadata": {},
   "outputs": [],
   "source": [
    "def conditional_update(df, condition_col, condition_val, update_col, new_val):\n",
    "    '''\n",
    "    .withColumn => used to update a column\n",
    "    .when => returns a value when condition is true\n",
    "    '''\n",
    "    return df.withColumn(update_col, F.when(F.col(condition_col) == condition_val, new_val).otherwise(F.col(update_col)))\n",
    "\n",
    "for index in range(len(acorn_list)):\n",
    "    household_info = conditional_update(household_info, 'Acorn', acorn_list[index], 'Acorn_id', index+1)"
   ]
  },
  {
   "cell_type": "markdown",
   "metadata": {},
   "source": [
    "# EDA electricity consumption"
   ]
  },
  {
   "cell_type": "code",
   "execution_count": 9,
   "metadata": {},
   "outputs": [
    {
     "name": "stdout",
     "output_type": "stream",
     "text": [
      "+---------+----------+-------------------+-------------------+------------------+------------+-------------------+------------------+-------------------+\n",
      "|    LCLid|       day|      energy_median|        energy_mean|        energy_max|energy_count|         energy_std|        energy_sum|         energy_min|\n",
      "+---------+----------+-------------------+-------------------+------------------+------------+-------------------+------------------+-------------------+\n",
      "|MAC000131|2011-12-15|              0.485|0.43204545454545457|             0.868|          22|0.23914579678767536|             9.505|0.07200000000000001|\n",
      "|MAC000131|2011-12-16|             0.1415|0.29616666875000003|         1.1160001|          48| 0.2814713178628203|14.216000100000002|              0.031|\n",
      "|MAC000131|2011-12-17|             0.1015|          0.1898125|             0.685|          48| 0.1884046862418033|             9.111|              0.064|\n",
      "|MAC000131|2011-12-18|              0.114| 0.2189791666666666|0.6759999999999999|          48|0.20291927853038208|10.510999999999996|              0.065|\n",
      "|MAC000131|2011-12-19|              0.191|0.32597916666666665|0.7879999999999999|          48| 0.2592049619947409|15.646999999999998|              0.066|\n",
      "|MAC000131|2011-12-20|0.21800000000000005|             0.3575|             1.077|          48|0.28759657027517305|             17.16|              0.066|\n",
      "|MAC000131|2011-12-21|             0.1305| 0.2350833333333333|             0.705|          48| 0.2220696491599295|            11.284|              0.066|\n",
      "|MAC000131|2011-12-22|0.08900000000000001|0.22135416666666666|             1.094|          48|0.26723887549908265|            10.625|              0.062|\n",
      "|MAC000131|2011-12-23|0.16049999999999998|           0.291125|0.7490000000000001|          48|0.24907604794434665|13.973999999999998|              0.065|\n",
      "|MAC000131|2011-12-24|              0.107|0.16899999999999998|             0.613|          47|0.15068466931050878|             7.943|              0.065|\n",
      "|MAC000131|2011-12-25|             0.2175|0.33918750000000003|             0.866|          48|0.26310119857478675|16.281000000000002|              0.069|\n",
      "|MAC000131|2011-12-26|0.14950000000000002| 0.2617083333333333|             0.838|          48| 0.2447927441503373|12.562000000000001|              0.066|\n",
      "|MAC000131|2011-12-27|0.14300000000000002| 0.2740000000000001|             0.778|          48|0.25212745847913703|13.152000000000005|              0.068|\n",
      "|MAC000131|2011-12-28|0.14550000000000002| 0.3005208333333333|             1.207|          48|0.29868028801773083|            14.425|              0.066|\n",
      "|MAC000131|2011-12-29|              0.152| 0.3070416666666667|             0.888|          48| 0.2644546341928976|            14.738|              0.066|\n",
      "|MAC000131|2011-12-30|              0.135|0.27685416666666673|             0.782|          48|  0.261185756802965|13.289000000000005|              0.064|\n",
      "|MAC000131|2011-12-31|             0.1515|0.32572916666666674|             1.252|          48| 0.3098882941898363|15.635000000000005|              0.066|\n",
      "|MAC000131|2012-01-01|              0.151|0.25602083333333336|             0.812|          48| 0.2252494116065079|            12.289|              0.068|\n",
      "|MAC000131|2012-01-02|              0.134| 0.2520833333333333|             0.851|          48|0.23721296951853504|              12.1|              0.068|\n",
      "|MAC000131|2012-01-03|0.14750000000000002|0.23550000000000004|             0.674|          48| 0.2099953393606427|11.304000000000002|              0.068|\n",
      "+---------+----------+-------------------+-------------------+------------------+------------+-------------------+------------------+-------------------+\n",
      "only showing top 20 rows\n",
      "\n"
     ]
    }
   ],
   "source": [
    "electricity_consumption.show()"
   ]
  },
  {
   "cell_type": "code",
   "execution_count": 9,
   "metadata": {},
   "outputs": [
    {
     "name": "stdout",
     "output_type": "stream",
     "text": [
      "<class 'pandas.core.frame.DataFrame'>\n",
      "RangeIndex: 3510433 entries, 0 to 3510432\n",
      "Data columns (total 9 columns):\n",
      " #   Column         Dtype  \n",
      "---  ------         -----  \n",
      " 0   LCLid          object \n",
      " 1   day            object \n",
      " 2   energy_median  float64\n",
      " 3   energy_mean    float64\n",
      " 4   energy_max     float64\n",
      " 5   energy_count   int64  \n",
      " 6   energy_std     float64\n",
      " 7   energy_sum     float64\n",
      " 8   energy_min     float64\n",
      "dtypes: float64(6), int64(1), object(2)\n",
      "memory usage: 241.0+ MB\n"
     ]
    }
   ],
   "source": [
    "df = pd.read_csv(f\"../data/archive/daily_dataset.csv\")\n",
    "\n",
    "df.info()"
   ]
  },
  {
   "cell_type": "code",
   "execution_count": 21,
   "metadata": {},
   "outputs": [
    {
     "data": {
      "text/html": [
       "<div>\n",
       "<style scoped>\n",
       "    .dataframe tbody tr th:only-of-type {\n",
       "        vertical-align: middle;\n",
       "    }\n",
       "\n",
       "    .dataframe tbody tr th {\n",
       "        vertical-align: top;\n",
       "    }\n",
       "\n",
       "    .dataframe thead th {\n",
       "        text-align: right;\n",
       "    }\n",
       "</style>\n",
       "<table border=\"1\" class=\"dataframe\">\n",
       "  <thead>\n",
       "    <tr style=\"text-align: right;\">\n",
       "      <th></th>\n",
       "      <th>energy_median</th>\n",
       "      <th>energy_mean</th>\n",
       "      <th>energy_max</th>\n",
       "      <th>energy_count</th>\n",
       "      <th>energy_std</th>\n",
       "      <th>energy_sum</th>\n",
       "      <th>energy_min</th>\n",
       "    </tr>\n",
       "  </thead>\n",
       "  <tbody>\n",
       "    <tr>\n",
       "      <th>count</th>\n",
       "      <td>3.510403e+06</td>\n",
       "      <td>3.510403e+06</td>\n",
       "      <td>3.510403e+06</td>\n",
       "      <td>3.510433e+06</td>\n",
       "      <td>3.499102e+06</td>\n",
       "      <td>3.510403e+06</td>\n",
       "      <td>3.510403e+06</td>\n",
       "    </tr>\n",
       "    <tr>\n",
       "      <th>mean</th>\n",
       "      <td>1.587395e-01</td>\n",
       "      <td>2.117305e-01</td>\n",
       "      <td>8.345210e-01</td>\n",
       "      <td>4.780364e+01</td>\n",
       "      <td>1.726673e-01</td>\n",
       "      <td>1.012414e+01</td>\n",
       "      <td>5.962578e-02</td>\n",
       "    </tr>\n",
       "    <tr>\n",
       "      <th>std</th>\n",
       "      <td>1.701865e-01</td>\n",
       "      <td>1.908460e-01</td>\n",
       "      <td>6.683156e-01</td>\n",
       "      <td>2.810982e+00</td>\n",
       "      <td>1.531208e-01</td>\n",
       "      <td>9.128793e+00</td>\n",
       "      <td>8.701312e-02</td>\n",
       "    </tr>\n",
       "    <tr>\n",
       "      <th>min</th>\n",
       "      <td>0.000000e+00</td>\n",
       "      <td>0.000000e+00</td>\n",
       "      <td>0.000000e+00</td>\n",
       "      <td>0.000000e+00</td>\n",
       "      <td>0.000000e+00</td>\n",
       "      <td>0.000000e+00</td>\n",
       "      <td>0.000000e+00</td>\n",
       "    </tr>\n",
       "    <tr>\n",
       "      <th>25%</th>\n",
       "      <td>6.700000e-02</td>\n",
       "      <td>9.808333e-02</td>\n",
       "      <td>3.460000e-01</td>\n",
       "      <td>4.800000e+01</td>\n",
       "      <td>6.911626e-02</td>\n",
       "      <td>4.682000e+00</td>\n",
       "      <td>2.000000e-02</td>\n",
       "    </tr>\n",
       "    <tr>\n",
       "      <th>50%</th>\n",
       "      <td>1.145000e-01</td>\n",
       "      <td>1.632917e-01</td>\n",
       "      <td>6.880000e-01</td>\n",
       "      <td>4.800000e+01</td>\n",
       "      <td>1.327910e-01</td>\n",
       "      <td>7.815000e+00</td>\n",
       "      <td>3.900000e-02</td>\n",
       "    </tr>\n",
       "    <tr>\n",
       "      <th>75%</th>\n",
       "      <td>1.910000e-01</td>\n",
       "      <td>2.624583e-01</td>\n",
       "      <td>1.128000e+00</td>\n",
       "      <td>4.800000e+01</td>\n",
       "      <td>2.293124e-01</td>\n",
       "      <td>1.256900e+01</td>\n",
       "      <td>7.100000e-02</td>\n",
       "    </tr>\n",
       "    <tr>\n",
       "      <th>max</th>\n",
       "      <td>6.970500e+00</td>\n",
       "      <td>6.928250e+00</td>\n",
       "      <td>1.076100e+01</td>\n",
       "      <td>4.800000e+01</td>\n",
       "      <td>4.024569e+00</td>\n",
       "      <td>3.325560e+02</td>\n",
       "      <td>6.524000e+00</td>\n",
       "    </tr>\n",
       "  </tbody>\n",
       "</table>\n",
       "</div>"
      ],
      "text/plain": [
       "       energy_median   energy_mean    energy_max  energy_count    energy_std  \\\n",
       "count   3.510403e+06  3.510403e+06  3.510403e+06  3.510433e+06  3.499102e+06   \n",
       "mean    1.587395e-01  2.117305e-01  8.345210e-01  4.780364e+01  1.726673e-01   \n",
       "std     1.701865e-01  1.908460e-01  6.683156e-01  2.810982e+00  1.531208e-01   \n",
       "min     0.000000e+00  0.000000e+00  0.000000e+00  0.000000e+00  0.000000e+00   \n",
       "25%     6.700000e-02  9.808333e-02  3.460000e-01  4.800000e+01  6.911626e-02   \n",
       "50%     1.145000e-01  1.632917e-01  6.880000e-01  4.800000e+01  1.327910e-01   \n",
       "75%     1.910000e-01  2.624583e-01  1.128000e+00  4.800000e+01  2.293124e-01   \n",
       "max     6.970500e+00  6.928250e+00  1.076100e+01  4.800000e+01  4.024569e+00   \n",
       "\n",
       "         energy_sum    energy_min  \n",
       "count  3.510403e+06  3.510403e+06  \n",
       "mean   1.012414e+01  5.962578e-02  \n",
       "std    9.128793e+00  8.701312e-02  \n",
       "min    0.000000e+00  0.000000e+00  \n",
       "25%    4.682000e+00  2.000000e-02  \n",
       "50%    7.815000e+00  3.900000e-02  \n",
       "75%    1.256900e+01  7.100000e-02  \n",
       "max    3.325560e+02  6.524000e+00  "
      ]
     },
     "execution_count": 21,
     "metadata": {},
     "output_type": "execute_result"
    }
   ],
   "source": [
    "df.describe()"
   ]
  },
  {
   "cell_type": "code",
   "execution_count": 84,
   "metadata": {},
   "outputs": [
    {
     "data": {
      "image/png": "[encoded data removed]",
      "text/plain": [
       "<Figure size 700x700 with 2 Axes>"
      ]
     },
     "metadata": {},
     "output_type": "display_data"
    }
   ],
   "source": [
    "corrMatrix = df[df.select_dtypes(include=['float64', 'int64']).columns].corr()\n",
    "plt.figure(figsize =(7,7))\n",
    "plt.rc('font', size=7)\n",
    "plt.rc('axes', labelsize=7, titlesize=7)\n",
    "cmap = sns.diverging_palette(15, -3000, as_cmap=True)\n",
    "fig = sns.heatmap(corrMatrix , annot=True , square=True ,cmap=cmap)"
   ]
  },
  {
   "cell_type": "code",
   "execution_count": 35,
   "metadata": {},
   "outputs": [
    {
     "data": {
      "image/png": "[encoded data removed]",
      "text/plain": [
       "<Figure size 1200x800 with 9 Axes>"
      ]
     },
     "metadata": {},
     "output_type": "display_data"
    }
   ],
   "source": [
    "plt.rc('font', size=14)\n",
    "plt.rc('axes', labelsize=14, titlesize=14)\n",
    "plt.rc('legend', fontsize=14)\n",
    "plt.rc('xtick', labelsize=10)\n",
    "plt.rc('ytick', labelsize=10)\n",
    "\n",
    "df.hist(bins=50, figsize=(12, 8))\n",
    "plt.show()"
   ]
  },
  {
   "cell_type": "markdown",
   "metadata": {},
   "source": [
    "We don't really need columns other than energy_sum"
   ]
  },
  {
   "cell_type": "code",
   "execution_count": null,
   "metadata": {},
   "outputs": [
    {
     "data": {
      "text/plain": [
       "['LCLid',\n",
       " 'day',\n",
       " 'energy_median',\n",
       " 'energy_mean',\n",
       " 'energy_max',\n",
       " 'energy_count',\n",
       " 'energy_std',\n",
       " 'energy_sum',\n",
       " 'energy_min']"
      ]
     },
     "execution_count": 10,
     "metadata": {},
     "output_type": "execute_result"
    }
   ],
   "source": [
    "electricity_consumption.columns"
   ]
  },
  {
   "cell_type": "code",
   "execution_count": 10,
   "metadata": {},
   "outputs": [],
   "source": [
    "electricity_consumption = electricity_consumption.select('LCLid', 'day', 'energy_sum')"
   ]
  },
  {
   "cell_type": "code",
   "execution_count": 60,
   "metadata": {},
   "outputs": [
    {
     "data": {
      "image/png": "[encoded data removed]",
      "text/plain": [
       "<Figure size 500x600 with 1 Axes>"
      ]
     },
     "metadata": {},
     "output_type": "display_data"
    }
   ],
   "source": [
    "plt.figure(figsize=(5, 6))\n",
    "sns.boxplot(data=df.loc[:, df.columns.isin(['energy_sum'])])\n",
    "\n",
    "# Slant the x-axis labels\n",
    "plt.xticks(ha=\"right\")\n",
    "plt.show()"
   ]
  },
  {
   "cell_type": "code",
   "execution_count": 12,
   "metadata": {},
   "outputs": [
    {
     "name": "stdout",
     "output_type": "stream",
     "text": [
      "+---------+----------+------------------+\n",
      "|    LCLid|       day|        energy_sum|\n",
      "+---------+----------+------------------+\n",
      "|MAC000131|2011-12-15|             9.505|\n",
      "|MAC000131|2011-12-16|14.216000100000002|\n",
      "|MAC000131|2011-12-17|             9.111|\n",
      "|MAC000131|2011-12-18|10.510999999999996|\n",
      "|MAC000131|2011-12-19|15.646999999999998|\n",
      "|MAC000131|2011-12-20|             17.16|\n",
      "|MAC000131|2011-12-21|            11.284|\n",
      "|MAC000131|2011-12-22|            10.625|\n",
      "|MAC000131|2011-12-23|13.973999999999998|\n",
      "|MAC000131|2011-12-24|             7.943|\n",
      "|MAC000131|2011-12-25|16.281000000000002|\n",
      "|MAC000131|2011-12-26|12.562000000000001|\n",
      "|MAC000131|2011-12-27|13.152000000000005|\n",
      "|MAC000131|2011-12-28|            14.425|\n",
      "|MAC000131|2011-12-29|            14.738|\n",
      "|MAC000131|2011-12-30|13.289000000000005|\n",
      "|MAC000131|2011-12-31|15.635000000000005|\n",
      "|MAC000131|2012-01-01|            12.289|\n",
      "|MAC000131|2012-01-02|              12.1|\n",
      "|MAC000131|2012-01-03|11.304000000000002|\n",
      "+---------+----------+------------------+\n",
      "only showing top 20 rows\n",
      "\n"
     ]
    }
   ],
   "source": [
    "electricity_consumption.show()"
   ]
  },
  {
   "cell_type": "code",
   "execution_count": 10,
   "metadata": {},
   "outputs": [
    {
     "name": "stdout",
     "output_type": "stream",
     "text": [
      "+---------+-------+--------+\n",
      "|    LCLid|  Acorn|Acorn_id|\n",
      "+---------+-------+--------+\n",
      "|MAC000002|ACORN-A|       1|\n",
      "|MAC003613|ACORN-A|       1|\n",
      "|MAC003597|ACORN-A|       1|\n",
      "|MAC003579|ACORN-A|       1|\n",
      "|MAC003566|ACORN-A|       1|\n",
      "|MAC003557|ACORN-A|       1|\n",
      "|MAC003553|ACORN-A|       1|\n",
      "|MAC003482|ACORN-A|       1|\n",
      "|MAC003463|ACORN-A|       1|\n",
      "|MAC003449|ACORN-A|       1|\n",
      "|MAC003428|ACORN-A|       1|\n",
      "|MAC003423|ACORN-A|       1|\n",
      "|MAC003422|ACORN-A|       1|\n",
      "|MAC003400|ACORN-A|       1|\n",
      "|MAC003394|ACORN-A|       1|\n",
      "|MAC003388|ACORN-A|       1|\n",
      "|MAC003348|ACORN-A|       1|\n",
      "|MAC000246|ACORN-A|       1|\n",
      "|MAC003305|ACORN-A|       1|\n",
      "|MAC003281|ACORN-A|       1|\n",
      "+---------+-------+--------+\n",
      "only showing top 20 rows\n",
      "\n"
     ]
    }
   ],
   "source": [
    "household_info.show()"
   ]
  },
  {
   "cell_type": "code",
   "execution_count": 11,
   "metadata": {},
   "outputs": [],
   "source": [
    "electricity_consumption = electricity_consumption.withColumnRenamed('LCLid', 'id')\n",
    "energy_info = household_info.join(electricity_consumption, household_info.LCLid == electricity_consumption.id, how='left').drop('id')"
   ]
  },
  {
   "cell_type": "markdown",
   "metadata": {},
   "source": [
    "# EDA weather"
   ]
  },
  {
   "cell_type": "code",
   "execution_count": 15,
   "metadata": {},
   "outputs": [
    {
     "name": "stdout",
     "output_type": "stream",
     "text": [
      "+--------------+-------------------+-----------+-------------------+--------+-------------------+----------+---------+--------+--------------------------+-----------------------+----------+----------+--------+---------------------------+----------------------+----------------------+-------+-------------------+-------------------+--------------+--------------+---------------+-------------------+-------------------+-------------------+--------------------+-------------------+----------------------+--------------------------+--------------------------+---------+\n",
      "|temperatureMax| temperatureMaxTime|windBearing|               icon|dewPoint| temperatureMinTime|cloudCover|windSpeed|pressure|apparentTemperatureMinTime|apparentTemperatureHigh|precipType|visibility|humidity|apparentTemperatureHighTime|apparentTemperatureLow|apparentTemperatureMax|uvIndex|               time|         sunsetTime|temperatureLow|temperatureMin|temperatureHigh|        sunriseTime|temperatureHighTime|        uvIndexTime|             summary| temperatureLowTime|apparentTemperatureMin|apparentTemperatureMaxTime|apparentTemperatureLowTime|moonPhase|\n",
      "+--------------+-------------------+-----------+-------------------+--------+-------------------+----------+---------+--------+--------------------------+-----------------------+----------+----------+--------+---------------------------+----------------------+----------------------+-------+-------------------+-------------------+--------------+--------------+---------------+-------------------+-------------------+-------------------+--------------------+-------------------+----------------------+--------------------------+--------------------------+---------+\n",
      "|         11.96|2011-11-11 23:00:00|        123|                fog|     9.4|2011-11-11 07:00:00|      0.79|     3.88| 1016.08|       2011-11-11 07:00:00|                  10.87|      rain|       3.3|    0.95|        2011-11-11 19:00:00|                 10.87|                 11.96|    1.0|2011-11-11 00:00:00|2011-11-11 16:19:21|         10.87|          8.85|          10.87|2011-11-11 07:12:14|2011-11-11 19:00:00|2011-11-11 11:00:00|Foggy until after...|2011-11-11 19:00:00|                  6.48|       2011-11-11 23:00:00|       2011-11-11 19:00:00|     0.52|\n",
      "|          8.59|2011-12-11 14:00:00|        198|  partly-cloudy-day|    4.49|2011-12-11 01:00:00|      0.56|     3.94| 1007.71|       2011-12-11 02:00:00|                   5.62|      rain|     12.09|    0.88|        2011-12-11 19:00:00|                 -0.64|                  5.72|    1.0|2011-12-11 00:00:00|2011-12-11 15:52:53|          3.09|          2.48|           8.59|2011-12-11 07:57:02|2011-12-11 14:00:00|2011-12-11 12:00:00|Partly cloudy thr...|2011-12-12 07:00:00|                  0.11|       2011-12-11 20:00:00|       2011-12-12 08:00:00|     0.53|\n",
      "|         10.33|2011-12-27 02:00:00|        225|  partly-cloudy-day|    5.47|2011-12-27 23:00:00|      0.85|     3.54| 1032.76|       2011-12-27 22:00:00|                  10.33|      rain|     13.39|    0.74|        2011-12-27 14:00:00|                  5.52|                 10.33|    0.0|2011-12-27 00:00:00|2011-12-27 15:57:56|          8.03|          8.03|          10.33|2011-12-27 08:07:06|2011-12-27 14:00:00|2011-12-27 00:00:00|Mostly cloudy thr...|2011-12-27 23:00:00|                  5.59|       2011-12-27 02:00:00|       2011-12-28 00:00:00|      0.1|\n",
      "|          8.07|2011-12-02 23:00:00|        232|               wind|    3.69|2011-12-02 07:00:00|      0.32|      3.0| 1012.12|       2011-12-02 07:00:00|                   5.33|      rain|     11.89|    0.87|        2011-12-02 12:00:00|                  3.26|                  5.33|    1.0|2011-12-02 00:00:00|2011-12-02 15:56:17|          6.33|          2.56|           7.36|2011-12-02 07:46:09|2011-12-02 12:00:00|2011-12-02 10:00:00|Partly cloudy thr...|2011-12-02 19:00:00|                  0.46|       2011-12-02 12:00:00|       2011-12-02 19:00:00|     0.25|\n",
      "|          8.22|2011-12-24 23:00:00|        252|partly-cloudy-night|    2.79|2011-12-24 07:00:00|      0.37|     4.46| 1028.17|       2011-12-24 07:00:00|                   5.02|      rain|     13.16|     0.8|        2011-12-24 15:00:00|                  4.37|                  5.32|    1.0|2011-12-24 00:00:00|2011-12-24 15:55:55|          7.45|          3.17|           7.93|2011-12-24 08:06:15|2011-12-24 15:00:00|2011-12-24 13:00:00|Mostly cloudy thr...|2011-12-24 19:00:00|                 -0.51|       2011-12-24 23:00:00|       2011-12-24 20:00:00|     0.99|\n",
      "|          7.97|2011-12-15 14:00:00|        234|               wind|    2.41|2011-12-15 00:00:00|      0.42|     4.71|  996.75|       2011-12-15 00:00:00|                   4.25|      rain|     12.79|    0.77|        2011-12-15 14:00:00|                 -2.58|                  4.38|    1.0|2011-12-15 00:00:00|2011-12-15 15:52:48|           1.8|          4.08|           7.97|2011-12-15 08:00:46|2011-12-15 14:00:00|2011-12-15 11:00:00|Partly cloudy thr...|2011-12-16 08:00:00|                  1.07|       2011-12-15 21:00:00|       2011-12-16 08:00:00|     0.66|\n",
      "|         13.19|2011-11-19 14:00:00|        117|                fog|    8.12|2011-11-19 23:00:00|      0.26|     2.37|  1016.8|       2011-11-19 08:00:00|                  13.19|      rain|      6.63|    0.92|        2011-11-19 14:00:00|                  4.76|                 13.19|    1.0|2011-11-19 00:00:00|2011-11-19 16:08:22|          4.76|          7.48|          13.19|2011-11-19 07:26:03|2011-11-19 14:00:00|2011-11-19 10:00:00|Foggy starting in...|2011-11-20 08:00:00|                  5.98|       2011-11-19 14:00:00|       2011-11-20 08:00:00|     0.79|\n",
      "|          8.32|2011-11-16 23:00:00|        117|                fog|    5.58|2011-11-16 07:00:00|      0.81|     2.36|  1017.4|       2011-11-16 04:00:00|                   6.64|      rain|      3.69|    0.93|        2011-11-16 14:00:00|                  4.68|                  7.14|    1.0|2011-11-16 00:00:00|2011-11-16 16:12:12|          6.93|          5.19|           8.18|2011-11-16 07:20:57|2011-11-16 14:00:00|2011-11-16 11:00:00|Foggy starting in...|2011-11-16 19:00:00|                  2.93|       2011-11-16 23:00:00|       2011-11-16 19:00:00|     0.68|\n",
      "|          9.82|2011-12-12 23:00:00|        221|               wind|     4.1|2011-12-12 07:00:00|      0.38|     5.02| 1002.47|       2011-12-12 08:00:00|                   5.18|      rain|     12.05|    0.84|        2011-12-12 16:00:00|                  2.71|                  5.94|    1.0|2011-12-12 00:00:00|2011-12-12 15:52:47|          6.88|          3.09|           8.53|2011-12-12 07:58:02|2011-12-12 19:00:00|2011-12-12 11:00:00|Partly cloudy thr...|2011-12-13 08:00:00|                 -0.64|       2011-12-12 23:00:00|       2011-12-13 08:00:00|     0.56|\n",
      "|          9.71|2011-11-20 14:00:00|        115|                fog|    6.62|2011-11-20 08:00:00|      0.41|     1.24| 1018.82|       2011-11-20 08:00:00|                   9.54|      rain|      2.64|    0.96|        2011-11-20 15:00:00|                  5.95|                  9.54|    1.0|2011-11-20 00:00:00|2011-11-20 16:07:10|           7.1|          4.76|           9.71|2011-11-20 07:27:43|2011-11-20 14:00:00|2011-11-20 10:00:00|Foggy in the morn...|2011-11-21 02:00:00|                  4.76|       2011-11-20 15:00:00|       2011-11-21 01:00:00|     0.82|\n",
      "|         11.31|2011-11-08 00:00:00|        101|                fog|    9.12|2011-11-08 09:00:00|      0.83|      2.4| 1014.61|       2011-11-08 08:00:00|                  10.57|      rain|      4.31|    0.92|        2011-11-08 16:00:00|                  9.11|                 11.31|    1.0|2011-11-08 00:00:00|2011-11-08 16:24:02|          9.73|          9.37|          10.57|2011-11-08 07:06:56|2011-11-08 16:00:00|2011-11-08 10:00:00|Foggy in the morn...|2011-11-08 21:00:00|                  7.85|       2011-11-08 00:00:00|       2011-11-08 21:00:00|     0.43|\n",
      "|          9.11|2011-12-04 13:00:00|        254|  partly-cloudy-day|    4.87|2011-12-04 23:00:00|      0.36|     4.31| 1001.15|       2011-12-04 23:00:00|                   6.66|      rain|     13.36|    0.82|        2011-12-04 14:00:00|                 -1.69|                  6.66|    1.0|2011-12-04 00:00:00|2011-12-04 15:55:09|          2.81|          4.69|           9.11|2011-12-04 07:48:50|2011-12-04 13:00:00|2011-12-04 10:00:00|Partly cloudy unt...|2011-12-05 08:00:00|                  1.03|       2011-12-04 14:00:00|       2011-12-05 08:00:00|     0.31|\n",
      "|          4.68|2011-12-16 00:00:00|        315|  partly-cloudy-day|     1.6|2011-12-16 08:00:00|       0.7|     3.71|   988.1|       2011-12-16 10:00:00|                   0.23|      rain|     10.96|    0.88|        2011-12-16 15:00:00|                 -3.56|                  0.99|    1.0|2011-12-16 00:00:00|2011-12-16 15:52:56|          0.24|           1.8|           4.53|2011-12-16 08:01:35|2011-12-16 15:00:00|2011-12-16 11:00:00|Mostly cloudy thr...|2011-12-17 08:00:00|                 -2.65|       2011-12-16 00:00:00|       2011-12-17 08:00:00|      0.7|\n",
      "|         15.57|2011-11-01 15:00:00|        208|  partly-cloudy-day|   10.13|2011-11-01 22:00:00|      0.36|     2.45| 1009.46|       2011-11-01 22:00:00|                  15.57|      rain|     12.68|    0.84|        2011-11-01 15:00:00|                  7.33|                 15.57|    1.0|2011-11-01 00:00:00|2011-11-01 16:36:03|          8.88|          9.68|          15.57|2011-11-01 06:54:29|2011-11-01 15:00:00|2011-11-01 10:00:00|Partly cloudy unt...|2011-11-02 03:00:00|                  9.01|       2011-11-01 15:00:00|       2011-11-02 03:00:00|     0.21|\n",
      "|         12.91|2011-12-26 13:00:00|        236|  partly-cloudy-day|    8.88|2011-12-26 21:00:00|      0.81|     5.44| 1033.14|       2011-12-26 21:00:00|                  12.91|      rain|     13.23|    0.84|        2011-12-26 13:00:00|                  6.91|                 12.91|    1.0|2011-12-26 00:00:00|2011-12-26 15:57:13|          9.79|          9.82|          12.91|2011-12-26 08:06:52|2011-12-26 13:00:00|2011-12-26 12:00:00|Mostly cloudy thr...|2011-12-27 08:00:00|                  6.91|       2011-12-26 13:00:00|       2011-12-26 21:00:00|     0.07|\n",
      "|         12.58|2011-11-28 23:00:00|        190|partly-cloudy-night|    4.39|2011-11-28 05:00:00|      0.56|     2.34|  1022.8|       2011-11-28 05:00:00|                  10.27|      rain|     11.84|    0.86|        2011-11-28 19:00:00|                 10.27|                 12.58|    1.0|2011-11-28 00:00:00|2011-11-28 15:59:10|         10.27|          1.31|          10.27|2011-11-28 07:40:24|2011-11-28 19:00:00|2011-11-28 11:00:00|Mostly cloudy thr...|2011-11-28 19:00:00|                  1.31|       2011-11-28 23:00:00|       2011-11-28 19:00:00|     0.12|\n",
      "|          7.68|2011-12-09 13:00:00|        255|  partly-cloudy-day|    0.41|2011-12-09 23:00:00|      0.15|     5.65|  1010.6|       2011-12-09 23:00:00|                   3.99|      rain|     12.83|    0.71|        2011-12-09 13:00:00|                 -3.42|                  3.99|    1.0|2011-12-09 00:00:00|2011-12-09 15:53:16|         -0.13|          2.03|           7.68|2011-12-09 07:54:54|2011-12-09 13:00:00|2011-12-09 10:00:00|Partly cloudy sta...|2011-12-10 07:00:00|                 -1.42|       2011-12-09 13:00:00|       2011-12-10 07:00:00|     0.46|\n",
      "|          6.87|2011-12-05 13:00:00|        254|  partly-cloudy-day|    0.84|2011-12-05 08:00:00|       0.2|     5.57| 1006.01|       2011-12-05 08:00:00|                   3.13|      rain|      13.0|    0.77|        2011-12-05 15:00:00|                 -1.61|                  3.13|    1.0|2011-12-05 00:00:00|2011-12-05 15:54:40|          2.68|          2.81|           6.87|2011-12-05 07:50:07|2011-12-05 13:00:00|2011-12-05 10:00:00|Partly cloudy unt...|2011-12-06 01:00:00|                 -1.69|       2011-12-05 15:00:00|       2011-12-06 05:00:00|     0.34|\n",
      "|         12.93|2011-11-24 12:00:00|        204|partly-cloudy-night|    8.56|2011-11-24 02:00:00|      0.41|     4.04| 1027.22|       2011-11-24 02:00:00|                  12.93|      rain|     10.64|    0.89|        2011-11-24 12:00:00|                   7.3|                 12.93|    1.0|2011-11-24 00:00:00|2011-11-24 16:02:48|          9.71|          8.56|          12.93|2011-11-24 07:34:14|2011-11-24 12:00:00|2011-11-24 10:00:00|Partly cloudy thr...|2011-11-24 19:00:00|                  7.01|       2011-11-24 12:00:00|       2011-11-24 19:00:00|     0.97|\n",
      "|         14.44|2011-11-17 13:00:00|        190|                fog|    8.83|2011-11-17 03:00:00|      0.52|     2.23| 1018.32|       2011-11-17 21:00:00|                  14.44|      rain|       8.1|    0.88|        2011-11-17 13:00:00|                  7.54|                 14.44|    1.0|2011-11-17 00:00:00|2011-11-17 16:10:53|          9.06|          8.54|          14.44|2011-11-17 07:22:40|2011-11-17 13:00:00|2011-11-17 10:00:00|Foggy in the morn...|2011-11-18 05:00:00|                  7.54|       2011-11-17 13:00:00|       2011-11-17 21:00:00|     0.71|\n",
      "+--------------+-------------------+-----------+-------------------+--------+-------------------+----------+---------+--------+--------------------------+-----------------------+----------+----------+--------+---------------------------+----------------------+----------------------+-------+-------------------+-------------------+--------------+--------------+---------------+-------------------+-------------------+-------------------+--------------------+-------------------+----------------------+--------------------------+--------------------------+---------+\n",
      "only showing top 20 rows\n",
      "\n"
     ]
    }
   ],
   "source": [
    "weather.show()"
   ]
  },
  {
   "cell_type": "code",
   "execution_count": 12,
   "metadata": {},
   "outputs": [],
   "source": [
    "weather = weather.withColumn(\"date\", F.to_date(\"sunriseTime\"))"
   ]
  },
  {
   "cell_type": "code",
   "execution_count": 12,
   "metadata": {},
   "outputs": [
    {
     "data": {
      "text/plain": [
       "['temperatureMax',\n",
       " 'temperatureMaxTime',\n",
       " 'windBearing',\n",
       " 'icon',\n",
       " 'dewPoint',\n",
       " 'temperatureMinTime',\n",
       " 'cloudCover',\n",
       " 'windSpeed',\n",
       " 'pressure',\n",
       " 'apparentTemperatureMinTime',\n",
       " 'apparentTemperatureHigh',\n",
       " 'precipType',\n",
       " 'visibility',\n",
       " 'humidity',\n",
       " 'apparentTemperatureHighTime',\n",
       " 'apparentTemperatureLow',\n",
       " 'apparentTemperatureMax',\n",
       " 'uvIndex',\n",
       " 'time',\n",
       " 'sunsetTime',\n",
       " 'temperatureLow',\n",
       " 'temperatureMin',\n",
       " 'temperatureHigh',\n",
       " 'sunriseTime',\n",
       " 'temperatureHighTime',\n",
       " 'uvIndexTime',\n",
       " 'summary',\n",
       " 'temperatureLowTime',\n",
       " 'apparentTemperatureMin',\n",
       " 'apparentTemperatureMaxTime',\n",
       " 'apparentTemperatureLowTime',\n",
       " 'moonPhase',\n",
       " 'date']"
      ]
     },
     "execution_count": 12,
     "metadata": {},
     "output_type": "execute_result"
    }
   ],
   "source": [
    "weather.columns"
   ]
  },
  {
   "cell_type": "code",
   "execution_count": 20,
   "metadata": {},
   "outputs": [
    {
     "name": "stdout",
     "output_type": "stream",
     "text": [
      "+--------------+-----------+--------+----------+---------+--------+-----------------------+----------+--------+----------------------+----------------------+-------+-------------------+--------------+--------------+---------------+-------------------+----------------------+---------+----------+\n",
      "|temperatureMax|windBearing|dewPoint|cloudCover|windSpeed|pressure|apparentTemperatureHigh|visibility|humidity|apparentTemperatureLow|apparentTemperatureMax|uvIndex|         sunsetTime|temperatureLow|temperatureMin|temperatureHigh|        sunriseTime|apparentTemperatureMin|moonPhase|      date|\n",
      "+--------------+-----------+--------+----------+---------+--------+-----------------------+----------+--------+----------------------+----------------------+-------+-------------------+--------------+--------------+---------------+-------------------+----------------------+---------+----------+\n",
      "|         11.96|        123|     9.4|      0.79|     3.88| 1016.08|                  10.87|       3.3|    0.95|                 10.87|                 11.96|    1.0|2011-11-11 16:19:21|         10.87|          8.85|          10.87|2011-11-11 07:12:14|                  6.48|     0.52|2011-11-11|\n",
      "|          8.59|        198|    4.49|      0.56|     3.94| 1007.71|                   5.62|     12.09|    0.88|                 -0.64|                  5.72|    1.0|2011-12-11 15:52:53|          3.09|          2.48|           8.59|2011-12-11 07:57:02|                  0.11|     0.53|2011-12-11|\n",
      "|         10.33|        225|    5.47|      0.85|     3.54| 1032.76|                  10.33|     13.39|    0.74|                  5.52|                 10.33|    0.0|2011-12-27 15:57:56|          8.03|          8.03|          10.33|2011-12-27 08:07:06|                  5.59|      0.1|2011-12-27|\n",
      "|          8.07|        232|    3.69|      0.32|      3.0| 1012.12|                   5.33|     11.89|    0.87|                  3.26|                  5.33|    1.0|2011-12-02 15:56:17|          6.33|          2.56|           7.36|2011-12-02 07:46:09|                  0.46|     0.25|2011-12-02|\n",
      "|          8.22|        252|    2.79|      0.37|     4.46| 1028.17|                   5.02|     13.16|     0.8|                  4.37|                  5.32|    1.0|2011-12-24 15:55:55|          7.45|          3.17|           7.93|2011-12-24 08:06:15|                 -0.51|     0.99|2011-12-24|\n",
      "|          7.97|        234|    2.41|      0.42|     4.71|  996.75|                   4.25|     12.79|    0.77|                 -2.58|                  4.38|    1.0|2011-12-15 15:52:48|           1.8|          4.08|           7.97|2011-12-15 08:00:46|                  1.07|     0.66|2011-12-15|\n",
      "|         13.19|        117|    8.12|      0.26|     2.37|  1016.8|                  13.19|      6.63|    0.92|                  4.76|                 13.19|    1.0|2011-11-19 16:08:22|          4.76|          7.48|          13.19|2011-11-19 07:26:03|                  5.98|     0.79|2011-11-19|\n",
      "|          8.32|        117|    5.58|      0.81|     2.36|  1017.4|                   6.64|      3.69|    0.93|                  4.68|                  7.14|    1.0|2011-11-16 16:12:12|          6.93|          5.19|           8.18|2011-11-16 07:20:57|                  2.93|     0.68|2011-11-16|\n",
      "|          9.82|        221|     4.1|      0.38|     5.02| 1002.47|                   5.18|     12.05|    0.84|                  2.71|                  5.94|    1.0|2011-12-12 15:52:47|          6.88|          3.09|           8.53|2011-12-12 07:58:02|                 -0.64|     0.56|2011-12-12|\n",
      "|          9.71|        115|    6.62|      0.41|     1.24| 1018.82|                   9.54|      2.64|    0.96|                  5.95|                  9.54|    1.0|2011-11-20 16:07:10|           7.1|          4.76|           9.71|2011-11-20 07:27:43|                  4.76|     0.82|2011-11-20|\n",
      "|         11.31|        101|    9.12|      0.83|      2.4| 1014.61|                  10.57|      4.31|    0.92|                  9.11|                 11.31|    1.0|2011-11-08 16:24:02|          9.73|          9.37|          10.57|2011-11-08 07:06:56|                  7.85|     0.43|2011-11-08|\n",
      "|          9.11|        254|    4.87|      0.36|     4.31| 1001.15|                   6.66|     13.36|    0.82|                 -1.69|                  6.66|    1.0|2011-12-04 15:55:09|          2.81|          4.69|           9.11|2011-12-04 07:48:50|                  1.03|     0.31|2011-12-04|\n",
      "|          4.68|        315|     1.6|       0.7|     3.71|   988.1|                   0.23|     10.96|    0.88|                 -3.56|                  0.99|    1.0|2011-12-16 15:52:56|          0.24|           1.8|           4.53|2011-12-16 08:01:35|                 -2.65|      0.7|2011-12-16|\n",
      "|         15.57|        208|   10.13|      0.36|     2.45| 1009.46|                  15.57|     12.68|    0.84|                  7.33|                 15.57|    1.0|2011-11-01 16:36:03|          8.88|          9.68|          15.57|2011-11-01 06:54:29|                  9.01|     0.21|2011-11-01|\n",
      "|         12.91|        236|    8.88|      0.81|     5.44| 1033.14|                  12.91|     13.23|    0.84|                  6.91|                 12.91|    1.0|2011-12-26 15:57:13|          9.79|          9.82|          12.91|2011-12-26 08:06:52|                  6.91|     0.07|2011-12-26|\n",
      "|         12.58|        190|    4.39|      0.56|     2.34|  1022.8|                  10.27|     11.84|    0.86|                 10.27|                 12.58|    1.0|2011-11-28 15:59:10|         10.27|          1.31|          10.27|2011-11-28 07:40:24|                  1.31|     0.12|2011-11-28|\n",
      "|          7.68|        255|    0.41|      0.15|     5.65|  1010.6|                   3.99|     12.83|    0.71|                 -3.42|                  3.99|    1.0|2011-12-09 15:53:16|         -0.13|          2.03|           7.68|2011-12-09 07:54:54|                 -1.42|     0.46|2011-12-09|\n",
      "|          6.87|        254|    0.84|       0.2|     5.57| 1006.01|                   3.13|      13.0|    0.77|                 -1.61|                  3.13|    1.0|2011-12-05 15:54:40|          2.68|          2.81|           6.87|2011-12-05 07:50:07|                 -1.69|     0.34|2011-12-05|\n",
      "|         12.93|        204|    8.56|      0.41|     4.04| 1027.22|                  12.93|     10.64|    0.89|                   7.3|                 12.93|    1.0|2011-11-24 16:02:48|          9.71|          8.56|          12.93|2011-11-24 07:34:14|                  7.01|     0.97|2011-11-24|\n",
      "|         14.44|        190|    8.83|      0.52|     2.23| 1018.32|                  14.44|       8.1|    0.88|                  7.54|                 14.44|    1.0|2011-11-17 16:10:53|          9.06|          8.54|          14.44|2011-11-17 07:22:40|                  7.54|     0.71|2011-11-17|\n",
      "+--------------+-----------+--------+----------+---------+--------+-----------------------+----------+--------+----------------------+----------------------+-------+-------------------+--------------+--------------+---------------+-------------------+----------------------+---------+----------+\n",
      "only showing top 20 rows\n",
      "\n"
     ]
    }
   ],
   "source": [
    "weather.drop('temperatureMaxTime', 'temperatureMinTime', 'apparentTemperatureMinTime', 'apparentTemperatureHighTime', 'temperatureHighTime', 'uvIndexTime', 'summary', 'temperatureLowTime', 'apparentTemperatureMaxTime', 'apparentTemperatureLowTime', 'icon', 'time', 'precipType').show()"
   ]
  },
  {
   "cell_type": "code",
   "execution_count": 21,
   "metadata": {},
   "outputs": [
    {
     "data": {
      "text/plain": [
       "[Row(uvIndex='1.0'),\n",
       " Row(uvIndex='0.0'),\n",
       " Row(uvIndex='5.0'),\n",
       " Row(uvIndex='6.0'),\n",
       " Row(uvIndex='4.0'),\n",
       " Row(uvIndex='7.0'),\n",
       " Row(uvIndex='2.0'),\n",
       " Row(uvIndex='3.0'),\n",
       " Row(uvIndex=None)]"
      ]
     },
     "execution_count": 21,
     "metadata": {},
     "output_type": "execute_result"
    }
   ],
   "source": [
    "weather.select('uvIndex').distinct().collect()"
   ]
  },
  {
   "cell_type": "code",
   "execution_count": 13,
   "metadata": {},
   "outputs": [],
   "source": [
    "weather = weather.drop('temperatureMaxTime', 'temperatureMinTime', 'apparentTemperatureMinTime', 'apparentTemperatureHighTime', 'temperatureHighTime', 'uvIndexTime', 'summary', 'temperatureLowTime', 'apparentTemperatureMaxTime', 'apparentTemperatureLowTime', 'icon', 'time', 'precipType').withColumn('sunsetTime', F.date_format('sunsetTime', 'HH:mm:ss')).withColumn('sunriseTime', F.date_format('sunriseTime', 'HH:mm:ss'))"
   ]
  },
  {
   "cell_type": "code",
   "execution_count": 25,
   "metadata": {},
   "outputs": [
    {
     "name": "stdout",
     "output_type": "stream",
     "text": [
      "+---------+-------+--------+----------+------------------+\n",
      "|    LCLid|  Acorn|Acorn_id|       day|        energy_sum|\n",
      "+---------+-------+--------+----------+------------------+\n",
      "|MAC003252|ACORN-A|       1|2012-09-19| 8.568999999999999|\n",
      "|MAC003252|ACORN-A|       1|2012-09-20|            10.661|\n",
      "|MAC003252|ACORN-A|       1|2012-09-21|14.054999999999998|\n",
      "|MAC003252|ACORN-A|       1|2012-09-22|            15.648|\n",
      "|MAC003252|ACORN-A|       1|2012-09-23|             8.701|\n",
      "|MAC003252|ACORN-A|       1|2012-09-24|             0.112|\n",
      "|MAC003252|ACORN-A|       1|2012-09-25|            11.691|\n",
      "|MAC003252|ACORN-A|       1|2012-09-26|12.395999999999999|\n",
      "|MAC003252|ACORN-A|       1|2012-09-27|        11.1180001|\n",
      "|MAC003252|ACORN-A|       1|2012-09-28|            11.385|\n",
      "|MAC003252|ACORN-A|       1|2012-09-29|14.514000000000001|\n",
      "|MAC003252|ACORN-A|       1|2012-09-30|            12.262|\n",
      "|MAC003252|ACORN-A|       1|2012-10-01|            13.662|\n",
      "|MAC003252|ACORN-A|       1|2012-10-02|11.495999999999995|\n",
      "|MAC003252|ACORN-A|       1|2012-10-03|7.4940000000000015|\n",
      "|MAC003252|ACORN-A|       1|2012-10-04|11.745999999999995|\n",
      "|MAC003252|ACORN-A|       1|2012-10-05|            11.162|\n",
      "|MAC003252|ACORN-A|       1|2012-10-06|            10.799|\n",
      "|MAC003252|ACORN-A|       1|2012-10-07|17.416000100000005|\n",
      "|MAC003252|ACORN-A|       1|2012-10-08|            11.034|\n",
      "+---------+-------+--------+----------+------------------+\n",
      "only showing top 20 rows\n",
      "\n"
     ]
    }
   ],
   "source": [
    "energy_info.show()"
   ]
  },
  {
   "cell_type": "code",
   "execution_count": 14,
   "metadata": {},
   "outputs": [],
   "source": [
    "energy_info = energy_info.join(weather, energy_info.day == weather.date, how='left').drop('day')"
   ]
  },
  {
   "cell_type": "code",
   "execution_count": 15,
   "metadata": {},
   "outputs": [
    {
     "name": "stdout",
     "output_type": "stream",
     "text": [
      "+---------+-------+--------+------------------+--------------+-----------+--------+----------+---------+--------+-----------------------+----------+--------+----------------------+----------------------+-------+----------+--------------+--------------+---------------+-----------+----------------------+---------+----------+\n",
      "|    LCLid|  Acorn|Acorn_id|        energy_sum|temperatureMax|windBearing|dewPoint|cloudCover|windSpeed|pressure|apparentTemperatureHigh|visibility|humidity|apparentTemperatureLow|apparentTemperatureMax|uvIndex|sunsetTime|temperatureLow|temperatureMin|temperatureHigh|sunriseTime|apparentTemperatureMin|moonPhase|      date|\n",
      "+---------+-------+--------+------------------+--------------+-----------+--------+----------+---------+--------+-----------------------+----------+--------+----------------------+----------------------+-------+----------+--------------+--------------+---------------+-----------+----------------------+---------+----------+\n",
      "|MAC003252|ACORN-A|       1| 8.568999999999999|          16.3|        275|    4.66|      0.27|     3.65| 1021.81|                   16.3|     12.99|    0.63|                  8.07|                  16.3|    3.0|  18:07:22|          9.07|          7.35|           16.3|   05:43:35|                  5.17|     0.12|2012-09-19|\n",
      "|MAC003252|ACORN-A|       1|            10.661|         17.38|        226|    7.24|      0.45|     3.17|  1020.9|                  17.38|      13.0|     0.7|                 10.34|                 17.38|    2.0|  18:05:02|         10.34|          9.07|          17.38|   05:45:10|                  8.07|     0.16|2012-09-20|\n",
      "|MAC003252|ACORN-A|       1|14.054999999999998|         16.32|        268|    8.68|      0.43|     1.47| 1015.46|                  16.32|     12.54|    0.76|                  5.43|                 16.32|    2.0|  18:02:43|          6.59|         10.34|          16.32|   05:46:45|                 10.34|      0.2|2012-09-21|\n",
      "|MAC003252|ACORN-A|       1|            15.648|         15.62|         31|    5.38|      0.28|     1.98| 1019.37|                  15.62|     12.97|    0.69|                  7.69|                 15.62|    2.0|  18:00:23|          8.85|          6.59|          15.62|   05:48:21|                  5.43|     0.23|2012-09-22|\n",
      "|MAC003252|ACORN-A|       1|             8.701|         12.31|         87|    8.42|      0.48|     4.46|  1009.6|                  12.31|     10.62|    0.86|                 10.96|                 12.31|    2.0|  17:58:04|         10.96|          8.85|          12.31|   05:49:57|                  7.69|     0.27|2012-09-23|\n",
      "|MAC003252|ACORN-A|       1|             0.112|          15.2|        212|   11.14|      0.66|     2.53|  989.47|                   15.2|       8.1|    0.88|                  7.49|                  15.2|    2.0|  17:55:44|          9.74|         11.51|           15.2|   05:51:33|                 11.51|     0.31|2012-09-24|\n",
      "|MAC003252|ACORN-A|       1|            11.691|         15.47|        203|    8.56|      0.28|     4.92|  988.79|                  15.47|     13.13|    0.78|                 10.07|                 15.47|    2.0|  17:53:25|         10.07|          9.74|          15.47|   05:53:09|                  7.49|     0.34|2012-09-25|\n",
      "|MAC003252|ACORN-A|       1|12.395999999999999|         15.14|        169|   10.23|      0.39|     2.57|  992.07|                  15.14|     12.44|    0.88|                 10.57|                 15.14|    2.0|  17:51:06|         10.57|         10.07|          15.14|   05:54:45|                 10.07|     0.38|2012-09-26|\n",
      "|MAC003252|ACORN-A|       1|        11.1180001|         16.61|        301|     9.5|      0.48|     2.17| 1006.39|                  16.61|     11.41|    0.82|                  7.44|                 16.61|    2.0|  17:48:48|          9.03|         10.57|          16.61|   05:56:21|                 10.57|     0.41|2012-09-27|\n",
      "|MAC003252|ACORN-A|       1|            11.385|         17.07|        227|    9.78|      0.39|     4.08| 1012.91|                  17.07|     12.84|    0.85|                   6.9|                 17.07|    2.0|  17:46:29|          8.74|          9.03|          17.07|   05:57:58|                  7.44|     0.45|2012-09-28|\n",
      "|MAC003252|ACORN-A|       1|14.514000000000001|         15.83|        270|    6.81|      0.17|     3.36| 1017.85|                  15.83|     13.21|    0.75|                  4.87|                 15.83|    2.0|  17:44:11|          6.42|          8.71|          15.83|   05:59:35|                   6.9|     0.48|2012-09-29|\n",
      "|MAC003252|ACORN-A|       1|            12.262|         16.46|        221|    8.66|      0.48|      4.6|  1019.0|                  16.46|     13.15|    0.81|                 13.66|                 16.46|    2.0|  17:41:53|         13.66|          6.42|          16.46|   06:01:12|                  4.87|     0.52|2012-09-30|\n",
      "|MAC003252|ACORN-A|       1|            13.662|         16.24|        217|   12.43|      0.61|     4.57| 1012.11|                  16.24|     11.43|    0.89|                 10.87|                 16.24|    2.0|  17:39:36|         10.87|         12.37|          16.24|   06:02:49|                 12.37|     0.55|2012-10-01|\n",
      "|MAC003252|ACORN-A|       1|11.495999999999995|         16.44|        211|    10.9|      0.39|     5.09| 1010.12|                  16.44|     12.55|    0.85|                 11.06|                 16.44|    2.0|  17:37:18|         11.06|         10.87|          16.44|   06:04:27|                 10.87|     0.58|2012-10-02|\n",
      "|MAC003252|ACORN-A|       1|7.4940000000000015|         14.34|        230|    8.97|      0.36|     4.65| 1005.61|                  14.34|     12.99|     0.8|                  5.02|                 14.34|    2.0|  17:35:02|          7.19|          9.35|          14.34|   06:06:05|                  7.78|     0.61|2012-10-03|\n",
      "|MAC003252|ACORN-A|       1|11.745999999999995|         14.99|        235|    7.55|      0.28|     3.65| 1008.02|                  14.99|     12.79|    0.79|                 10.98|                 14.99|    2.0|  17:32:45|         10.98|          7.19|          14.99|   06:07:43|                  5.02|     0.63|2012-10-04|\n",
      "|MAC003252|ACORN-A|       1|            11.162|          15.6|        244|   10.05|      0.61|      3.0| 1006.96|                  15.49|     10.11|    0.86|                  5.86|                 15.65|    2.0|  17:30:30|          7.61|          9.16|          15.49|   06:09:21|                  8.34|     0.66|2012-10-05|\n",
      "|MAC003252|ACORN-A|       1|            10.799|         14.89|          6|     7.3|       0.4|     1.75| 1012.51|                  14.89|     11.06|    0.83|                  5.17|                 14.89|    2.0|  17:28:14|          5.27|          7.61|          14.89|   06:11:00|                  5.86|     0.69|2012-10-06|\n",
      "|MAC003252|ACORN-A|       1|17.416000100000005|         13.64|        337|    7.43|      0.25|      0.4| 1021.29|                  13.64|      9.98|    0.87|                  8.79|                 13.64|    2.0|  17:26:00|          9.49|          5.27|          13.64|   06:12:39|                  5.17|     0.73|2012-10-07|\n",
      "|MAC003252|ACORN-A|       1|            11.034|         12.22|         88|   10.23|      0.61|     2.49| 1015.27|                  12.22|      7.84|    0.92|                  7.73|                 12.22|    1.0|  17:23:46|          9.07|          9.51|          12.22|   06:14:19|                  8.84|     0.76|2012-10-08|\n",
      "+---------+-------+--------+------------------+--------------+-----------+--------+----------+---------+--------+-----------------------+----------+--------+----------------------+----------------------+-------+----------+--------------+--------------+---------------+-----------+----------------------+---------+----------+\n",
      "only showing top 20 rows\n",
      "\n"
     ]
    }
   ],
   "source": [
    "energy_info.show()"
   ]
  },
  {
   "cell_type": "markdown",
   "metadata": {},
   "source": [
    "# Energy EDA"
   ]
  },
  {
   "cell_type": "code",
   "execution_count": 17,
   "metadata": {},
   "outputs": [
    {
     "name": "stdout",
     "output_type": "stream",
     "text": [
      "+---------+-------+--------+------------------+--------------+-----------+--------+----------+---------+--------+-----------------------+----------+--------+----------------------+----------------------+-------+----------+--------------+--------------+---------------+-----------+----------------------+---------+----------+\n",
      "|    LCLid|  Acorn|Acorn_id|        energy_sum|temperatureMax|windBearing|dewPoint|cloudCover|windSpeed|pressure|apparentTemperatureHigh|visibility|humidity|apparentTemperatureLow|apparentTemperatureMax|uvIndex|sunsetTime|temperatureLow|temperatureMin|temperatureHigh|sunriseTime|apparentTemperatureMin|moonPhase|      date|\n",
      "+---------+-------+--------+------------------+--------------+-----------+--------+----------+---------+--------+-----------------------+----------+--------+----------------------+----------------------+-------+----------+--------------+--------------+---------------+-----------+----------------------+---------+----------+\n",
      "|MAC003252|ACORN-A|       1| 8.568999999999999|          16.3|        275|    4.66|      0.27|     3.65| 1021.81|                   16.3|     12.99|    0.63|                  8.07|                  16.3|    3.0|  18:07:22|          9.07|          7.35|           16.3|   05:43:35|                  5.17|     0.12|2012-09-19|\n",
      "|MAC003252|ACORN-A|       1|            10.661|         17.38|        226|    7.24|      0.45|     3.17|  1020.9|                  17.38|      13.0|     0.7|                 10.34|                 17.38|    2.0|  18:05:02|         10.34|          9.07|          17.38|   05:45:10|                  8.07|     0.16|2012-09-20|\n",
      "|MAC003252|ACORN-A|       1|14.054999999999998|         16.32|        268|    8.68|      0.43|     1.47| 1015.46|                  16.32|     12.54|    0.76|                  5.43|                 16.32|    2.0|  18:02:43|          6.59|         10.34|          16.32|   05:46:45|                 10.34|      0.2|2012-09-21|\n",
      "|MAC003252|ACORN-A|       1|            15.648|         15.62|         31|    5.38|      0.28|     1.98| 1019.37|                  15.62|     12.97|    0.69|                  7.69|                 15.62|    2.0|  18:00:23|          8.85|          6.59|          15.62|   05:48:21|                  5.43|     0.23|2012-09-22|\n",
      "|MAC003252|ACORN-A|       1|             8.701|         12.31|         87|    8.42|      0.48|     4.46|  1009.6|                  12.31|     10.62|    0.86|                 10.96|                 12.31|    2.0|  17:58:04|         10.96|          8.85|          12.31|   05:49:57|                  7.69|     0.27|2012-09-23|\n",
      "|MAC003252|ACORN-A|       1|             0.112|          15.2|        212|   11.14|      0.66|     2.53|  989.47|                   15.2|       8.1|    0.88|                  7.49|                  15.2|    2.0|  17:55:44|          9.74|         11.51|           15.2|   05:51:33|                 11.51|     0.31|2012-09-24|\n",
      "|MAC003252|ACORN-A|       1|            11.691|         15.47|        203|    8.56|      0.28|     4.92|  988.79|                  15.47|     13.13|    0.78|                 10.07|                 15.47|    2.0|  17:53:25|         10.07|          9.74|          15.47|   05:53:09|                  7.49|     0.34|2012-09-25|\n",
      "|MAC003252|ACORN-A|       1|12.395999999999999|         15.14|        169|   10.23|      0.39|     2.57|  992.07|                  15.14|     12.44|    0.88|                 10.57|                 15.14|    2.0|  17:51:06|         10.57|         10.07|          15.14|   05:54:45|                 10.07|     0.38|2012-09-26|\n",
      "|MAC003252|ACORN-A|       1|        11.1180001|         16.61|        301|     9.5|      0.48|     2.17| 1006.39|                  16.61|     11.41|    0.82|                  7.44|                 16.61|    2.0|  17:48:48|          9.03|         10.57|          16.61|   05:56:21|                 10.57|     0.41|2012-09-27|\n",
      "|MAC003252|ACORN-A|       1|            11.385|         17.07|        227|    9.78|      0.39|     4.08| 1012.91|                  17.07|     12.84|    0.85|                   6.9|                 17.07|    2.0|  17:46:29|          8.74|          9.03|          17.07|   05:57:58|                  7.44|     0.45|2012-09-28|\n",
      "|MAC003252|ACORN-A|       1|14.514000000000001|         15.83|        270|    6.81|      0.17|     3.36| 1017.85|                  15.83|     13.21|    0.75|                  4.87|                 15.83|    2.0|  17:44:11|          6.42|          8.71|          15.83|   05:59:35|                   6.9|     0.48|2012-09-29|\n",
      "|MAC003252|ACORN-A|       1|            12.262|         16.46|        221|    8.66|      0.48|      4.6|  1019.0|                  16.46|     13.15|    0.81|                 13.66|                 16.46|    2.0|  17:41:53|         13.66|          6.42|          16.46|   06:01:12|                  4.87|     0.52|2012-09-30|\n",
      "|MAC003252|ACORN-A|       1|            13.662|         16.24|        217|   12.43|      0.61|     4.57| 1012.11|                  16.24|     11.43|    0.89|                 10.87|                 16.24|    2.0|  17:39:36|         10.87|         12.37|          16.24|   06:02:49|                 12.37|     0.55|2012-10-01|\n",
      "|MAC003252|ACORN-A|       1|11.495999999999995|         16.44|        211|    10.9|      0.39|     5.09| 1010.12|                  16.44|     12.55|    0.85|                 11.06|                 16.44|    2.0|  17:37:18|         11.06|         10.87|          16.44|   06:04:27|                 10.87|     0.58|2012-10-02|\n",
      "|MAC003252|ACORN-A|       1|7.4940000000000015|         14.34|        230|    8.97|      0.36|     4.65| 1005.61|                  14.34|     12.99|     0.8|                  5.02|                 14.34|    2.0|  17:35:02|          7.19|          9.35|          14.34|   06:06:05|                  7.78|     0.61|2012-10-03|\n",
      "|MAC003252|ACORN-A|       1|11.745999999999995|         14.99|        235|    7.55|      0.28|     3.65| 1008.02|                  14.99|     12.79|    0.79|                 10.98|                 14.99|    2.0|  17:32:45|         10.98|          7.19|          14.99|   06:07:43|                  5.02|     0.63|2012-10-04|\n",
      "|MAC003252|ACORN-A|       1|            11.162|          15.6|        244|   10.05|      0.61|      3.0| 1006.96|                  15.49|     10.11|    0.86|                  5.86|                 15.65|    2.0|  17:30:30|          7.61|          9.16|          15.49|   06:09:21|                  8.34|     0.66|2012-10-05|\n",
      "|MAC003252|ACORN-A|       1|            10.799|         14.89|          6|     7.3|       0.4|     1.75| 1012.51|                  14.89|     11.06|    0.83|                  5.17|                 14.89|    2.0|  17:28:14|          5.27|          7.61|          14.89|   06:11:00|                  5.86|     0.69|2012-10-06|\n",
      "|MAC003252|ACORN-A|       1|17.416000100000005|         13.64|        337|    7.43|      0.25|      0.4| 1021.29|                  13.64|      9.98|    0.87|                  8.79|                 13.64|    2.0|  17:26:00|          9.49|          5.27|          13.64|   06:12:39|                  5.17|     0.73|2012-10-07|\n",
      "|MAC003252|ACORN-A|       1|            11.034|         12.22|         88|   10.23|      0.61|     2.49| 1015.27|                  12.22|      7.84|    0.92|                  7.73|                 12.22|    1.0|  17:23:46|          9.07|          9.51|          12.22|   06:14:19|                  8.84|     0.76|2012-10-08|\n",
      "+---------+-------+--------+------------------+--------------+-----------+--------+----------+---------+--------+-----------------------+----------+--------+----------------------+----------------------+-------+----------+--------------+--------------+---------------+-----------+----------------------+---------+----------+\n",
      "only showing top 20 rows\n",
      "\n"
     ]
    }
   ],
   "source": [
    "energy_info.show()"
   ]
  },
  {
   "cell_type": "code",
   "execution_count": 16,
   "metadata": {},
   "outputs": [
    {
     "data": {
      "text/plain": [
       "'3.5.1'"
      ]
     },
     "execution_count": 16,
     "metadata": {},
     "output_type": "execute_result"
    }
   ],
   "source": [
    "spark.version"
   ]
  },
  {
   "cell_type": "code",
   "execution_count": null,
   "metadata": {},
   "outputs": [],
   "source": []
  }
 ],
 "metadata": {
  "kernelspec": {
   "display_name": ".venv",
   "language": "python",
   "name": "python3"
  },
  "language_info": {
   "codemirror_mode": {
    "name": "ipython",
    "version": 3
   },
   "file_extension": ".py",
   "mimetype": "text/x-python",
   "name": "python",
   "nbconvert_exporter": "python",
   "pygments_lexer": "ipython3",
   "version": "3.12.3"
  }
 },
 "nbformat": 4,
 "nbformat_minor": 2
}
