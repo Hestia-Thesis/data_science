{
 "cells": [
  {
   "cell_type": "code",
   "execution_count": 1,
   "metadata": {},
   "outputs": [],
   "source": [
    "import pandas as pd\n",
    "import numpy as np"
   ]
  },
  {
   "cell_type": "code",
   "execution_count": 3,
   "metadata": {},
   "outputs": [],
   "source": [
    "energy_info = pd.read_csv(f\"../data/energy_info.csv\")"
   ]
  },
  {
   "cell_type": "code",
   "execution_count": 4,
   "metadata": {},
   "outputs": [
    {
     "name": "stdout",
     "output_type": "stream",
     "text": [
      "<class 'pandas.core.frame.DataFrame'>\n",
      "RangeIndex: 3509652 entries, 0 to 3509651\n",
      "Data columns (total 25 columns):\n",
      " #   Column                   Dtype  \n",
      "---  ------                   -----  \n",
      " 0   Unnamed: 0               int64  \n",
      " 1   LCLid                    object \n",
      " 2   Acorn                    object \n",
      " 3   Acorn_id                 int64  \n",
      " 4   energy_sum               float64\n",
      " 5   date                     object \n",
      " 6   temperatureMax           float64\n",
      " 7   windBearing              int64  \n",
      " 8   dewPoint                 float64\n",
      " 9   cloudCover               float64\n",
      " 10  windSpeed                float64\n",
      " 11  pressure                 float64\n",
      " 12  apparentTemperatureHigh  float64\n",
      " 13  visibility               float64\n",
      " 14  humidity                 float64\n",
      " 15  apparentTemperatureLow   float64\n",
      " 16  apparentTemperatureMax   float64\n",
      " 17  uvIndex                  float64\n",
      " 18  sunsetTime               object \n",
      " 19  temperatureLow           float64\n",
      " 20  temperatureMin           float64\n",
      " 21  temperatureHigh          float64\n",
      " 22  sunriseTime              object \n",
      " 23  apparentTemperatureMin   float64\n",
      " 24  moonPhase                float64\n",
      "dtypes: float64(17), int64(3), object(5)\n",
      "memory usage: 669.4+ MB\n"
     ]
    }
   ],
   "source": [
    "energy_info.info()"
   ]
  },
  {
   "cell_type": "code",
   "execution_count": null,
   "metadata": {},
   "outputs": [],
   "source": [
    "def extract_date(df, date_col_name):\n",
    "    df[f'{date_col_name}_year'] = df[date_col_name].dt.year\n",
    "    df[f'{date_col_name}_month'] = df[date_col_name].dt.month\n",
    "    df[f'{date_col_name}_day'] = df[date_col_name].dt.day\n",
    "    df[f'{date_col_name}_day_of_week'] = df[date_col_name].dt.dayofweek\n",
    "    df[f'{date_col_name}_day_of_week_name'] = df[date_col_name].dt.day_name()\n",
    "    df[f'{date_col_name}_is_weekend'] = np.where(df[f'{date_col_name}_day_of_week_name'].isin(['Sunday', 'Saturday']), 1, 0)\n",
    "    df = df.drop([f'{date_col_name}_day_of_week_name'], axis=1)\n",
    "    \n"
   ]
  }
 ],
 "metadata": {
  "kernelspec": {
   "display_name": ".venv",
   "language": "python",
   "name": "python3"
  },
  "language_info": {
   "codemirror_mode": {
    "name": "ipython",
    "version": 3
   },
   "file_extension": ".py",
   "mimetype": "text/x-python",
   "name": "python",
   "nbconvert_exporter": "python",
   "pygments_lexer": "ipython3",
   "version": "3.12.3"
  }
 },
 "nbformat": 4,
 "nbformat_minor": 2
}
